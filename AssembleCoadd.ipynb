{
 "cells": [
  {
   "cell_type": "code",
   "execution_count": 4,
   "metadata": {},
   "outputs": [],
   "source": [
    "from lsst.pipe.base import PipelineTaskConnections, PipelineTaskConfig, PipelineTask\n",
    "\n",
    "# This lets a connection specify that at least N datasets are going to be used as\n",
    "# an input\n",
    "class RequireAtLeast:\n",
    "    def __init__(self, n):\n",
    "        self.n = n\n",
    "    def __call__(self, config, quantumInputRefs, connection):\n",
    "        return len(quantumInputRefs[connection]) >= self.n\n",
    "\n",
    "class AssembleCoaddConnections(PipelineTaskConnections):\n",
    "    inputWarps = Input(name=\"{inputCoaddName}Coadd_{warpType}Warp\",\n",
    "                       storageClass=\"ExposureF\",\n",
    "                       dimensions=(\"tract\", \"patch\", \"skymap\", \"visit\", \"instrument\"),\n",
    "                       deferLoad=True,\n",
    "                       multiple=True,\n",
    "                       checkFunction=RequireAtLeast(2))\n",
    "    skyMap = PrerequisiteInput(name=\"{inputCoaddName}Coadd_skyMap\",\n",
    "                               storageClass=\"SkyMap\",\n",
    "                               dimensions=(\"skymap\",))\n",
    "    brightObjectMask = PrerequisiteInput(name=\"brightObjectMask\",\n",
    "                                         storageClass=\"ObjectMaskCatalog\",\n",
    "                                         dimensions=(\"tract\", \"patch\", \"skymap\", \"abstract_filter\"))\n",
    "    coaddExposure = Output(name=\"{outputCoaddName}Coadd\",\n",
    "                           storageClass=\"ExposureF\",\n",
    "                           dimensions=(\"tract\", \"patch\", \"skymap\", \"abstract_filter\"))\n",
    "    nImage = Output(name=\"{outputCoaddName}Coadd_nImage\",\n",
    "                    storageClass=\"ImageU\",\n",
    "                    dimensions=(\"tract\", \"patch\", \"skymap\", \"abstract_filter\"))\n",
    "    dimensions = (\"tract\", \"patch\", \"abstract_filter\", \"skymap\")\n",
    "    defaultTemplates = {\"inputCoaddName\": \"deep\", \"outputCoaddName\": \"deep\", \"warpType\": \"direct\"}\n",
    "    \n",
    "    def __init__(self, *, config=None):\n",
    "        super().__init__(config=None)\n",
    "        # Filter out bright object masks if the task is not going to use them\n",
    "        # Check that the attribute exists, as the connection class potentially may be used\n",
    "        # for more than one config class, not clear at this point\n",
    "        if hasattr(config, \"doMaskBrightObjects\") and not config.doMaskBrightObjects:\n",
    "            self.prerequisiteInputs -= set((\"brightObjectMask\",))\n",
    "        # Filter out nImage if one will not be produced\n",
    "        if hasattr(config, \"doNImage\") and not config.doNImage:\n",
    "            self.outputs -= set((\"nImage\"))"
   ]
  },
  {
   "cell_type": "code",
   "execution_count": null,
   "metadata": {},
   "outputs": [],
   "source": [
    "class AssembleCoaddConfig(PipelineTaskConfig, pipelineConnections=AssembleCoaddConnections):\n",
    "    doMaskBrightObjects = pexConfig.Field(dtype=bool, default=False,\n",
    "                                          doc=\"Set mask and flag bits for bright objects\")\n",
    "    ...\n",
    "    doNImage = pexConfig.Field(dtype=bool, default=False,\n",
    "                               doc=\"Create image of number of contributing exposures for each pixel\")"
   ]
  },
  {
   "cell_type": "code",
   "execution_count": null,
   "metadata": {},
   "outputs": [],
   "source": [
    "class AssembleCoaddTask(PipelineTask):\n",
    "    def runQuantum(self, butlerQC, inputRefs, outputRefs):\n",
    "        inputs = butlerQC.get(inputRefs)\n",
    "        skyMap = inputs[\"skyMap\"]\n",
    "        outputDataRef = next(iter(outputRefs.values()))\n",
    "        skyInfo = makeSkyInfo(skyMap,\n",
    "                              tractId=outputDataRef.dataId['tract'],\n",
    "                              patchId=outputDataRef.dataId['patch'])\n",
    "        warps = inputs['inputWarps']\n",
    "        prepairedInputs = self.prepareInputs(warps)\n",
    "        supplementaryData = self.makeSupplementaryDataGen3(...)\n",
    "        retStruct = self.run(skyInfo, warps, prepairedInputs.imageScalerList, prepairedInputs.weightList,\n",
    "                             supplementaryData=supplementaryData)\n",
    "        self.processResults(retStruct.coaddExposure, inputs)\n",
    "        butlerQc.put(retStruct, outputRefs)\n",
    "    \n",
    "    def prepairInputs(self, warps):\n",
    "        statsCtrl = afwMath.StatisticsControl()\n",
    "        statsCtrl.setNumSigmaClip(self.config.sigmaClip)\n",
    "        statsCtrl.setNumIter(self.config.clipIter)\n",
    "        statsCtrl.setAndMask(self.getBadPixelMask())\n",
    "        statsCtrl.setNanSafe(True)       \n",
    "        # and weightList: a list of the weight of the associated coadd tempExp\n",
    "        # and imageScalerList: a list of scale factors for the associated coadd tempExp\n",
    "        weightList = []\n",
    "        imageScalerList = []\n",
    "        tempExpName = self.getTempExpDatasetName(self.warpType)\n",
    "        for warp in warps:\n",
    "            tempExp = warp.get() # <- get from a defer object, allows sub queries (such as subseting) on dataRef\n",
    "            ..."
   ]
  }
 ],
 "metadata": {
  "kernelspec": {
   "display_name": "Python 3",
   "language": "python",
   "name": "python3"
  },
  "language_info": {
   "codemirror_mode": {
    "name": "ipython",
    "version": 3
   },
   "file_extension": ".py",
   "mimetype": "text/x-python",
   "name": "python",
   "nbconvert_exporter": "python",
   "pygments_lexer": "ipython3",
   "version": "3.7.2"
  }
 },
 "nbformat": 4,
 "nbformat_minor": 2
}
